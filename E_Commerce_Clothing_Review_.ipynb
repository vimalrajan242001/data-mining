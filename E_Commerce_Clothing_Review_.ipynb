{
  "nbformat": 4,
  "nbformat_minor": 2,
  "metadata": {
    "colab": {
      "name": "E-Commerce Clothing Review .ipynb",
      "provenance": []
    },
    "kernelspec": {
      "name": "ir",
      "display_name": "R",
      "language": "R"
    },
    "language_info": {
      "name": "R",
      "codemirror_mode": "r",
      "pygments_lexer": "r",
      "mimetype": "text/x-r-source",
      "file_extension": ".r",
      "version": "4.1.1"
    }
  },
  "cells": [
    {
      "cell_type": "markdown",
      "source": [
        "# Title of the project : **E-Commerce Clothing Review** \r\n",
        "\r\n",
        "# Team Members:\r\n",
        "* Rakesh Roshan M N   (E0119047)\r\n",
        "* Darren John Mathews Y G (E0119024)\r\n",
        "* Vimal Rajan G (E0119035)\r\n",
        "\r\n",
        "# Problem Statement :\r\n",
        "\r\n",
        "\r\n",
        "# Data Description :\r\n",
        "\r\n",
        "\r\n",
        "# Software Requirements and Platforms used :\r\n",
        "* R-version : 4.1.1 \r\n",
        "* Platform : Google Colab"
      ],
      "metadata": {
        "id": "_6fTYssErJ-E"
      }
    },
    {
      "cell_type": "markdown",
      "source": [
        "# CO1 : Know your Data "
      ],
      "metadata": {
        "id": "DL_ypN6STAVd"
      }
    },
    {
      "cell_type": "code",
      "execution_count": 5,
      "source": [
        "a <- \"10\"\r\n",
        "a\r\n",
        "parse(text = str)\r\n"
      ],
      "outputs": [
        {
          "output_type": "error",
          "ename": "ERROR",
          "evalue": "Error in parse(text = x, srcfile = src): <text>:1:10: unexpected input\n1: a <- \"10\"\r\n             ^\n",
          "traceback": [
            "Error in parse(text = x, srcfile = src): <text>:1:10: unexpected input\n1: a <- \"10\"\r\n             ^\nTraceback:\n"
          ]
        }
      ],
      "metadata": {
        "id": "tm8kLT19TFZ0",
        "colab": {
          "base_uri": "https://localhost:8080/",
          "height": 34
        },
        "outputId": "a7f15df8-0761-42ac-8684-f61b33236509"
      }
    },
    {
      "cell_type": "markdown",
      "source": [
        "# CO2: Data Wrangling"
      ],
      "metadata": {
        "id": "tW1GyPfIS6K1"
      }
    },
    {
      "cell_type": "code",
      "execution_count": null,
      "source": [],
      "outputs": [],
      "metadata": {
        "id": "-idg3YG9TJD7"
      }
    },
    {
      "cell_type": "markdown",
      "source": [
        "# CO3: Data Modeling and Analysis"
      ],
      "metadata": {
        "id": "8mbalk7lTJ68"
      }
    },
    {
      "cell_type": "code",
      "execution_count": null,
      "source": [],
      "outputs": [],
      "metadata": {
        "id": "zii54XdcTQDW"
      }
    },
    {
      "cell_type": "markdown",
      "source": [
        "# CO4: Mining Techniques in R"
      ],
      "metadata": {
        "id": "f8IL1t0-TOyi"
      }
    },
    {
      "cell_type": "code",
      "execution_count": null,
      "source": [],
      "outputs": [],
      "metadata": {
        "id": "rDNmrLHbSWSi"
      }
    },
    {
      "cell_type": "markdown",
      "source": [
        "# CO5: Implementing case study in R : Describe the scenario taken for analysis "
      ],
      "metadata": {
        "id": "Ehi1CzBCTVwB"
      }
    },
    {
      "cell_type": "code",
      "execution_count": null,
      "source": [],
      "outputs": [],
      "metadata": {
        "id": "bpsZJ2GGTnzH"
      }
    }
  ]
}